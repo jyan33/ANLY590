{
 "cells": [
  {
   "cell_type": "markdown",
   "metadata": {},
   "source": [
    "# Jinghao Yan\n",
    "# ANLY590\n",
    "# HW2"
   ]
  },
  {
   "cell_type": "markdown",
   "metadata": {},
   "source": [
    "## Exercise 1 Autoencoder"
   ]
  },
  {
   "cell_type": "markdown",
   "metadata": {},
   "source": [
    "Build and fit a convolutional autoencoder for the Fashion MNIST dataset. After training your network, visualize some examples of input images and their decoded reconstruction."
   ]
  },
  {
   "cell_type": "code",
   "execution_count": 328,
   "metadata": {},
   "outputs": [
    {
     "data": {
      "text/plain": [
       "<Figure size 432x288 with 0 Axes>"
      ]
     },
     "metadata": {},
     "output_type": "display_data"
    }
   ],
   "source": [
    "# Import packages\n",
    "\n",
    "import os\n",
    "from keras.applications import VGG16\n",
    "from keras.optimizers import RMSprop\n",
    "from keras.layers import Input, Dense, Conv2D, MaxPooling2D, UpSampling2D, Flatten, Dropout, Conv1D, MaxPooling1D\n",
    "from keras.layers import Embedding, SimpleRNN, LSTM, GRU\n",
    "from keras.models import Model, Sequential\n",
    "from keras.preprocessing.image import img_to_array, array_to_img\n",
    "from keras import backend as K\n",
    "from keras.datasets import fashion_mnist\n",
    "from keras.utils import np_utils\n",
    "import numpy as np\n",
    "import matplotlib.pyplot as plt\n",
    "from sklearn import metrics\n",
    "from sklearn.model_selection import train_test_split\n",
    "from sklearn.metrics import roc_curve\n",
    "%matplotlib inline\n",
    "plt.viridis()"
   ]
  },
  {
   "cell_type": "code",
   "execution_count": 181,
   "metadata": {
    "scrolled": true
   },
   "outputs": [
    {
     "name": "stdout",
     "output_type": "stream",
     "text": [
      "(60000, 28, 28)\n"
     ]
    },
    {
     "data": {
      "text/plain": [
       "<matplotlib.image.AxesImage at 0xb4be3f470>"
      ]
     },
     "execution_count": 181,
     "metadata": {},
     "output_type": "execute_result"
    },
    {
     "data": {
      "image/png": "[encoded data removed]",
      "text/plain": [
       "<Figure size 432x288 with 1 Axes>"
      ]
     },
     "metadata": {
      "needs_background": "light"
     },
     "output_type": "display_data"
    }
   ],
   "source": [
    "# Code taken from Dr. Hines' lectures and https://blog.keras.io/building-autoencoders-in-keras.html\n",
    "\n",
    "# Load Fashion MNIST data into train and test sets\n",
    "(X_train, y_train), (X_test, y_test) = fashion_mnist.load_data()\n",
    "\n",
    "# Shape check and plotting\n",
    "print(X_train.shape)\n",
    "plt.imshow(X_train[0])"
   ]
  },
  {
   "cell_type": "code",
   "execution_count": 182,
   "metadata": {},
   "outputs": [],
   "source": [
    "# Declaring a depth of 1\n",
    "X_train = X_train.reshape(X_train.shape[0], 28, 28,1)\n",
    "X_test = X_test.reshape(X_test.shape[0], 28, 28,1)\n",
    "\n",
    "# Setting up values as float32s that are bounded between 0 and 1\n",
    "X_train = X_train.astype('float32')\n",
    "X_test = X_test.astype('float32')\n",
    "X_train /= 255\n",
    "X_test /= 255"
   ]
  },
  {
   "cell_type": "code",
   "execution_count": 183,
   "metadata": {},
   "outputs": [
    {
     "name": "stdout",
     "output_type": "stream",
     "text": [
      "(60000,)\n",
      "[9 0 0 3 0 2 7 2 5 5]\n"
     ]
    }
   ],
   "source": [
    "# Processing class labels they are currently a numeric vector\n",
    "# Transform them into categories\n",
    "print(y_train.shape)\n",
    "print(y_train[:10])"
   ]
  },
  {
   "cell_type": "code",
   "execution_count": 184,
   "metadata": {},
   "outputs": [
    {
     "name": "stdout",
     "output_type": "stream",
     "text": [
      "(60000, 10)\n"
     ]
    }
   ],
   "source": [
    "# Convert 1-dimensional class arrays to 10-dimensional class matrices\n",
    "Y_train = np_utils.to_categorical(y_train, 10)\n",
    "Y_test = np_utils.to_categorical(y_test, 10)\n",
    "# Check the shape\n",
    "print(Y_train.shape)"
   ]
  },
  {
   "cell_type": "code",
   "execution_count": 186,
   "metadata": {},
   "outputs": [],
   "source": [
    "input_img = Input(shape=(28, 28, 1))\n",
    "\n",
    "# set up encoder part of network\n",
    "x = Conv2D(32, (3, 3), activation='relu', padding='same')(input_img)\n",
    "x = MaxPooling2D((2, 2), padding='same')(x)\n",
    "x = Conv2D(16, (3, 3), activation='relu', padding='same')(x)\n",
    "x = MaxPooling2D((2, 2), padding='same')(x)\n",
    "x = Conv2D(16, (3, 3), activation='relu', padding='same')(x)\n",
    "encoded = MaxPooling2D((2, 2), padding='same')(x)\n",
    "\n",
    "# at this point the representation is (4, 4, 8) i.e. 128-dimensional\n",
    "\n",
    "# set up decoder part of network\n",
    "x = Conv2D(16, (3, 3), activation='relu', padding='same')(encoded)\n",
    "x = UpSampling2D((2, 2))(x)\n",
    "x = Conv2D(16, (3, 3), activation='relu', padding='same')(x)\n",
    "x = UpSampling2D((2, 2))(x)\n",
    "x = Conv2D(32, (3, 3), activation='relu')(x)\n",
    "x = UpSampling2D((2, 2))(x)\n",
    "decoded = Conv2D(1, (3, 3), activation='sigmoid', padding='same')(x)\n",
    "\n",
    "autoencoder = Model(input_img, decoded)\n",
    "autoencoder.compile(optimizer='adadelta', loss='binary_crossentropy')"
   ]
  },
  {
   "cell_type": "code",
   "execution_count": 187,
   "metadata": {
    "scrolled": false
   },
   "outputs": [
    {
     "name": "stdout",
     "output_type": "stream",
     "text": [
      "_________________________________________________________________\n",
      "Layer (type)                 Output Shape              Param #   \n",
      "=================================================================\n",
      "input_8 (InputLayer)         (None, 28, 28, 1)         0         \n",
      "_________________________________________________________________\n",
      "conv2d_65 (Conv2D)           (None, 28, 28, 32)        320       \n",
      "_________________________________________________________________\n",
      "max_pooling2d_30 (MaxPooling (None, 14, 14, 32)        0         \n",
      "_________________________________________________________________\n",
      "conv2d_66 (Conv2D)           (None, 14, 14, 16)        4624      \n",
      "_________________________________________________________________\n",
      "max_pooling2d_31 (MaxPooling (None, 7, 7, 16)          0         \n",
      "_________________________________________________________________\n",
      "conv2d_67 (Conv2D)           (None, 7, 7, 16)          2320      \n",
      "_________________________________________________________________\n",
      "max_pooling2d_32 (MaxPooling (None, 4, 4, 16)          0         \n",
      "_________________________________________________________________\n",
      "conv2d_68 (Conv2D)           (None, 4, 4, 16)          2320      \n",
      "_________________________________________________________________\n",
      "up_sampling2d_19 (UpSampling (None, 8, 8, 16)          0         \n",
      "_________________________________________________________________\n",
      "conv2d_69 (Conv2D)           (None, 8, 8, 16)          2320      \n",
      "_________________________________________________________________\n",
      "up_sampling2d_20 (UpSampling (None, 16, 16, 16)        0         \n",
      "_________________________________________________________________\n",
      "conv2d_70 (Conv2D)           (None, 14, 14, 32)        4640      \n",
      "_________________________________________________________________\n",
      "up_sampling2d_21 (UpSampling (None, 28, 28, 32)        0         \n",
      "_________________________________________________________________\n",
      "conv2d_71 (Conv2D)           (None, 28, 28, 1)         289       \n",
      "=================================================================\n",
      "Total params: 16,833\n",
      "Trainable params: 16,833\n",
      "Non-trainable params: 0\n",
      "_________________________________________________________________\n"
     ]
    }
   ],
   "source": [
    "autoencoder.summary()"
   ]
  },
  {
   "cell_type": "code",
   "execution_count": 188,
   "metadata": {},
   "outputs": [
    {
     "name": "stdout",
     "output_type": "stream",
     "text": [
      "Train on 60000 samples, validate on 10000 samples\n",
      "Epoch 1/20\n",
      "60000/60000 [==============================] - 96s 2ms/step - loss: 0.3585 - val_loss: 0.3269\n",
      "Epoch 2/20\n",
      "60000/60000 [==============================] - 92s 2ms/step - loss: 0.3136 - val_loss: 0.3061\n",
      "Epoch 3/20\n",
      "60000/60000 [==============================] - 93s 2ms/step - loss: 0.3029 - val_loss: 0.3008\n",
      "Epoch 4/20\n",
      "60000/60000 [==============================] - 93s 2ms/step - loss: 0.2974 - val_loss: 0.2975\n",
      "Epoch 5/20\n",
      "60000/60000 [==============================] - 94s 2ms/step - loss: 0.2940 - val_loss: 0.2922\n",
      "Epoch 6/20\n",
      "60000/60000 [==============================] - 91s 2ms/step - loss: 0.2915 - val_loss: 0.2934\n",
      "Epoch 7/20\n",
      "60000/60000 [==============================] - 93s 2ms/step - loss: 0.2893 - val_loss: 0.2892\n",
      "Epoch 8/20\n",
      "60000/60000 [==============================] - 96s 2ms/step - loss: 0.2878 - val_loss: 0.2870\n",
      "Epoch 9/20\n",
      "60000/60000 [==============================] - 94s 2ms/step - loss: 0.2865 - val_loss: 0.2871\n",
      "Epoch 10/20\n",
      "60000/60000 [==============================] - 93s 2ms/step - loss: 0.2855 - val_loss: 0.2872\n",
      "Epoch 11/20\n",
      "60000/60000 [==============================] - 89s 1ms/step - loss: 0.2843 - val_loss: 0.2858\n",
      "Epoch 12/20\n",
      "60000/60000 [==============================] - 93s 2ms/step - loss: 0.2836 - val_loss: 0.2865\n",
      "Epoch 13/20\n",
      "60000/60000 [==============================] - 94s 2ms/step - loss: 0.2830 - val_loss: 0.2849\n",
      "Epoch 14/20\n",
      "60000/60000 [==============================] - 91s 2ms/step - loss: 0.2822 - val_loss: 0.2856\n",
      "Epoch 15/20\n",
      "60000/60000 [==============================] - 90s 1ms/step - loss: 0.2813 - val_loss: 0.2832\n",
      "Epoch 16/20\n",
      "60000/60000 [==============================] - 92s 2ms/step - loss: 0.2808 - val_loss: 0.2825\n",
      "Epoch 17/20\n",
      "60000/60000 [==============================] - 95s 2ms/step - loss: 0.2802 - val_loss: 0.2810\n",
      "Epoch 18/20\n",
      "60000/60000 [==============================] - 96s 2ms/step - loss: 0.2798 - val_loss: 0.2820\n",
      "Epoch 19/20\n",
      "60000/60000 [==============================] - 97s 2ms/step - loss: 0.2794 - val_loss: 0.2820\n",
      "Epoch 20/20\n",
      "60000/60000 [==============================] - 94s 2ms/step - loss: 0.2789 - val_loss: 0.2814\n"
     ]
    },
    {
     "data": {
      "text/plain": [
       "<keras.callbacks.History at 0xb4be8bc18>"
      ]
     },
     "execution_count": 188,
     "metadata": {},
     "output_type": "execute_result"
    }
   ],
   "source": [
    "autoencoder.fit(X_train, X_train,\n",
    "                epochs=20,\n",
    "                batch_size=128,\n",
    "                shuffle=True,\n",
    "                validation_data=(X_test, X_test))"
   ]
  },
  {
   "cell_type": "code",
   "execution_count": 191,
   "metadata": {
    "scrolled": true
   },
   "outputs": [
    {
     "data": {
      "text/plain": [
       "<Figure size 432x288 with 0 Axes>"
      ]
     },
     "metadata": {},
     "output_type": "display_data"
    },
    {
     "data": {
      "image/png": "[encoded data removed]",
      "text/plain": [
       "<Figure size 1440x288 with 20 Axes>"
      ]
     },
     "metadata": {
      "needs_background": "light"
     },
     "output_type": "display_data"
    }
   ],
   "source": [
    "plt.clf()\n",
    "decoded_imgs = autoencoder.predict(X_test)\n",
    "\n",
    "n = 10\n",
    "plt.figure(figsize=(20, 4))\n",
    "for i in range(n):\n",
    "    # display original\n",
    "    ax = plt.subplot(2, n, i+1)\n",
    "    plt.imshow(X_test[i].reshape(28, 28))\n",
    "    plt.gray()\n",
    "    ax.get_xaxis().set_visible(False)\n",
    "    ax.get_yaxis().set_visible(False)\n",
    "\n",
    "    # display reconstruction\n",
    "    ax = plt.subplot(2, n, i +1+ n)\n",
    "    plt.imshow(decoded_imgs[i].reshape(28, 28))\n",
    "    plt.gray()\n",
    "    ax.get_xaxis().set_visible(False)\n",
    "    ax.get_yaxis().set_visible(False)\n",
    "plt.show()"
   ]
  },
  {
   "cell_type": "markdown",
   "metadata": {},
   "source": [
    "It appears that the convolutional autoencoder does a decent job of reconstructing the original images, as the decoded reconstructions of the images seem fairly representational of their originals. However, the details, such as fine text, etc, are not as visible in the reconstructed images, which is expected."
   ]
  },
  {
   "cell_type": "markdown",
   "metadata": {},
   "source": [
    "## Exercise 2 Image Classification\n",
    "### Problem 2.1"
   ]
  },
  {
   "cell_type": "markdown",
   "metadata": {},
   "source": [
    "Build a deep CNN to classify the images. Provide a brief description of the architectural choices you've made: kernel sizes, strides, padding, network depth. Train your network end-to-end. Report on your model's performance on training set and test set."
   ]
  },
  {
   "cell_type": "code",
   "execution_count": 193,
   "metadata": {
    "scrolled": false
   },
   "outputs": [
    {
     "name": "stdout",
     "output_type": "stream",
     "text": [
      "_________________________________________________________________\n",
      "Layer (type)                 Output Shape              Param #   \n",
      "=================================================================\n",
      "conv2d_72 (Conv2D)           (None, 26, 26, 32)        320       \n",
      "_________________________________________________________________\n",
      "conv2d_73 (Conv2D)           (None, 24, 24, 64)        18496     \n",
      "_________________________________________________________________\n",
      "max_pooling2d_33 (MaxPooling (None, 12, 12, 64)        0         \n",
      "_________________________________________________________________\n",
      "dropout_24 (Dropout)         (None, 12, 12, 64)        0         \n",
      "_________________________________________________________________\n",
      "flatten_14 (Flatten)         (None, 9216)              0         \n",
      "_________________________________________________________________\n",
      "dense_27 (Dense)             (None, 64)                589888    \n",
      "_________________________________________________________________\n",
      "dropout_25 (Dropout)         (None, 64)                0         \n",
      "_________________________________________________________________\n",
      "dense_28 (Dense)             (None, 10)                650       \n",
      "=================================================================\n",
      "Total params: 609,354\n",
      "Trainable params: 609,354\n",
      "Non-trainable params: 0\n",
      "_________________________________________________________________\n",
      "None\n"
     ]
    }
   ],
   "source": [
    "# Using the same Fashion MNIST dataset\n",
    "\n",
    "# CNN input layer\n",
    "model = Sequential()\n",
    "model.add(Conv2D(filters = 32,kernel_size=(3, 3), \n",
    "                 activation='relu', strides=(1, 1), \n",
    "                 padding='valid',\n",
    "                 input_shape=(28,28,1)))\n",
    "#print(model.output_shape)\n",
    "\n",
    "# Add remaining layers\n",
    "model.add(Conv2D(filters = 64,kernel_size=(3, 3), \n",
    "                 activation='relu', strides=(1, 1), \n",
    "                 padding='valid', input_shape=(28,28,1)))\n",
    "model.add(MaxPooling2D(pool_size=(2,2)))\n",
    "model.add(Dropout(0.25))\n",
    "\n",
    "# Setting up the fully connected layer\n",
    "model.add(Flatten())\n",
    "model.add(Dense(64, activation='relu'))\n",
    "model.add(Dropout(0.5))\n",
    "model.add(Dense(10, activation='softmax'))\n",
    "print(model.summary())"
   ]
  },
  {
   "cell_type": "markdown",
   "metadata": {},
   "source": [
    "Here, this model consists of 2 convolutional layers. First layer has 32 filters, 3 by 3 kernel size, 1 by 1 stride, no padding, and ReLu activation. Second layer has 64 filters, 3 by 3 kernel size, 1 by 1 stride, no padding, and ReLu activation. After this, there is a 2 by 2 block maxpooling, dropout at rate 0.25, a layer of flattening into vector, and a dense layer of ReLu activation with 64 hidden nodes. Finally, another dropout at rate 0.5 is done and we have an output layer of 10 nodes with Softmax activation."
   ]
  },
  {
   "cell_type": "code",
   "execution_count": 194,
   "metadata": {},
   "outputs": [],
   "source": [
    "model.compile(loss='categorical_crossentropy',\n",
    "              optimizer='adam',\n",
    "              metrics=['accuracy'])"
   ]
  },
  {
   "cell_type": "code",
   "execution_count": 195,
   "metadata": {},
   "outputs": [
    {
     "name": "stdout",
     "output_type": "stream",
     "text": [
      "[[0. 0. 0. ... 0. 0. 1.]\n",
      " [1. 0. 0. ... 0. 0. 0.]\n",
      " [1. 0. 0. ... 0. 0. 0.]\n",
      " ...\n",
      " [0. 0. 0. ... 0. 0. 0.]\n",
      " [1. 0. 0. ... 0. 0. 0.]\n",
      " [0. 0. 0. ... 0. 0. 0.]]\n"
     ]
    }
   ],
   "source": [
    "print(Y_train)"
   ]
  },
  {
   "cell_type": "code",
   "execution_count": 196,
   "metadata": {
    "scrolled": false
   },
   "outputs": [
    {
     "name": "stdout",
     "output_type": "stream",
     "text": [
      "Train on 60000 samples, validate on 10000 samples\n",
      "Epoch 1/15\n",
      "60000/60000 [==============================] - 69s 1ms/step - loss: 0.6955 - acc: 0.7620 - val_loss: 0.3877 - val_acc: 0.8606\n",
      "Epoch 2/15\n",
      "60000/60000 [==============================] - 66s 1ms/step - loss: 0.4411 - acc: 0.8451 - val_loss: 0.3314 - val_acc: 0.8815\n",
      "Epoch 3/15\n",
      "60000/60000 [==============================] - 65s 1ms/step - loss: 0.3798 - acc: 0.8645 - val_loss: 0.3044 - val_acc: 0.8915\n",
      "Epoch 4/15\n",
      "60000/60000 [==============================] - 66s 1ms/step - loss: 0.3508 - acc: 0.8769 - val_loss: 0.2869 - val_acc: 0.8963\n",
      "Epoch 5/15\n",
      "60000/60000 [==============================] - 66s 1ms/step - loss: 0.3216 - acc: 0.8850 - val_loss: 0.2677 - val_acc: 0.9014\n",
      "Epoch 6/15\n",
      "60000/60000 [==============================] - 65s 1ms/step - loss: 0.3029 - acc: 0.8909 - val_loss: 0.2746 - val_acc: 0.8990\n",
      "Epoch 7/15\n",
      "60000/60000 [==============================] - 64s 1ms/step - loss: 0.2855 - acc: 0.8981 - val_loss: 0.2537 - val_acc: 0.9071\n",
      "Epoch 8/15\n",
      "60000/60000 [==============================] - 65s 1ms/step - loss: 0.2720 - acc: 0.9019 - val_loss: 0.2562 - val_acc: 0.9078\n",
      "Epoch 9/15\n",
      "60000/60000 [==============================] - 65s 1ms/step - loss: 0.2580 - acc: 0.9067 - val_loss: 0.2439 - val_acc: 0.9106\n",
      "Epoch 10/15\n",
      "60000/60000 [==============================] - 68s 1ms/step - loss: 0.2487 - acc: 0.9104 - val_loss: 0.2358 - val_acc: 0.9121\n",
      "Epoch 11/15\n",
      "60000/60000 [==============================] - 65s 1ms/step - loss: 0.2391 - acc: 0.9139 - val_loss: 0.2304 - val_acc: 0.9180\n",
      "Epoch 12/15\n",
      "60000/60000 [==============================] - 65s 1ms/step - loss: 0.2298 - acc: 0.9150 - val_loss: 0.2212 - val_acc: 0.9207\n",
      "Epoch 13/15\n",
      "60000/60000 [==============================] - 65s 1ms/step - loss: 0.2207 - acc: 0.9180 - val_loss: 0.2243 - val_acc: 0.9185\n",
      "Epoch 14/15\n",
      "60000/60000 [==============================] - 70s 1ms/step - loss: 0.2096 - acc: 0.9223 - val_loss: 0.2268 - val_acc: 0.9194\n",
      "Epoch 15/15\n",
      "60000/60000 [==============================] - 68s 1ms/step - loss: 0.2024 - acc: 0.9240 - val_loss: 0.2210 - val_acc: 0.9234\n"
     ]
    }
   ],
   "source": [
    "model_training = model.fit(X_train, Y_train,\n",
    "          epochs=15,\n",
    "          batch_size=256,\n",
    "          validation_data=(X_test, Y_test))"
   ]
  },
  {
   "cell_type": "code",
   "execution_count": 319,
   "metadata": {
    "scrolled": true
   },
   "outputs": [
    {
     "data": {
      "image/png": "[encoded data removed]",
      "text/plain": [
       "<Figure size 432x288 with 1 Axes>"
      ]
     },
     "metadata": {
      "needs_background": "light"
     },
     "output_type": "display_data"
    }
   ],
   "source": [
    "plt.plot(model_training.history[\"acc\"], label=\"Training\")\n",
    "plt.plot(model_training.history[\"val_acc\"], label=\"Test\")\n",
    "plt.legend()\n",
    "plt.title(\"Model Accuracy on Training and Test Datasets\")\n",
    "plt.show()"
   ]
  },
  {
   "cell_type": "markdown",
   "metadata": {},
   "source": [
    "Something interesting is noticeable here - the model accuracy for the training set greatly improves, with the end result of just under 0.92, but the model accuracy for the test set only improves slightly, with the end result also around 0.92."
   ]
  },
  {
   "cell_type": "markdown",
   "metadata": {},
   "source": [
    "### Problem 2.2"
   ]
  },
  {
   "cell_type": "markdown",
   "metadata": {},
   "source": [
    "Repeat the same task, but this time utilize a pre-trained network for the majority of your model. You should only train the final Dense layer, all other weights should be fixed. You can use whichever pre-trained backbone you like (ResNet, VGG, etc). Report on your model's performance on training set and test set."
   ]
  },
  {
   "cell_type": "code",
   "execution_count": 214,
   "metadata": {
    "scrolled": true
   },
   "outputs": [],
   "source": [
    "conv_base = VGG16(weights=\"imagenet\",include_top=False,input_shape=(48,48,3))"
   ]
  },
  {
   "cell_type": "code",
   "execution_count": 215,
   "metadata": {
    "scrolled": false
   },
   "outputs": [
    {
     "name": "stdout",
     "output_type": "stream",
     "text": [
      "_________________________________________________________________\n",
      "Layer (type)                 Output Shape              Param #   \n",
      "=================================================================\n",
      "input_10 (InputLayer)        (None, 48, 48, 3)         0         \n",
      "_________________________________________________________________\n",
      "block1_conv1 (Conv2D)        (None, 48, 48, 64)        1792      \n",
      "_________________________________________________________________\n",
      "block1_conv2 (Conv2D)        (None, 48, 48, 64)        36928     \n",
      "_________________________________________________________________\n",
      "block1_pool (MaxPooling2D)   (None, 24, 24, 64)        0         \n",
      "_________________________________________________________________\n",
      "block2_conv1 (Conv2D)        (None, 24, 24, 128)       73856     \n",
      "_________________________________________________________________\n",
      "block2_conv2 (Conv2D)        (None, 24, 24, 128)       147584    \n",
      "_________________________________________________________________\n",
      "block2_pool (MaxPooling2D)   (None, 12, 12, 128)       0         \n",
      "_________________________________________________________________\n",
      "block3_conv1 (Conv2D)        (None, 12, 12, 256)       295168    \n",
      "_________________________________________________________________\n",
      "block3_conv2 (Conv2D)        (None, 12, 12, 256)       590080    \n",
      "_________________________________________________________________\n",
      "block3_conv3 (Conv2D)        (None, 12, 12, 256)       590080    \n",
      "_________________________________________________________________\n",
      "block3_pool (MaxPooling2D)   (None, 6, 6, 256)         0         \n",
      "_________________________________________________________________\n",
      "block4_conv1 (Conv2D)        (None, 6, 6, 512)         1180160   \n",
      "_________________________________________________________________\n",
      "block4_conv2 (Conv2D)        (None, 6, 6, 512)         2359808   \n",
      "_________________________________________________________________\n",
      "block4_conv3 (Conv2D)        (None, 6, 6, 512)         2359808   \n",
      "_________________________________________________________________\n",
      "block4_pool (MaxPooling2D)   (None, 3, 3, 512)         0         \n",
      "_________________________________________________________________\n",
      "block5_conv1 (Conv2D)        (None, 3, 3, 512)         2359808   \n",
      "_________________________________________________________________\n",
      "block5_conv2 (Conv2D)        (None, 3, 3, 512)         2359808   \n",
      "_________________________________________________________________\n",
      "block5_conv3 (Conv2D)        (None, 3, 3, 512)         2359808   \n",
      "_________________________________________________________________\n",
      "block5_pool (MaxPooling2D)   (None, 1, 1, 512)         0         \n",
      "=================================================================\n",
      "Total params: 14,714,688\n",
      "Trainable params: 14,714,688\n",
      "Non-trainable params: 0\n",
      "_________________________________________________________________\n"
     ]
    }
   ],
   "source": [
    "conv_base.summary()"
   ]
  },
  {
   "cell_type": "code",
   "execution_count": 216,
   "metadata": {},
   "outputs": [],
   "source": [
    "# Resize data\n",
    "vggX_train = np.c_[X_train,X_train,X_train]\n",
    "vggX_test = np.c_[X_test,X_test,X_test]"
   ]
  },
  {
   "cell_type": "code",
   "execution_count": 217,
   "metadata": {},
   "outputs": [],
   "source": [
    "vggX_train = np.asarray([img_to_array(array_to_img(im, scale=False).resize((48,48))) for im in vggX_train])\n",
    "vggX_test = np.asarray([img_to_array(array_to_img(im, scale=False).resize((48,48))) for im in vggX_test])"
   ]
  },
  {
   "cell_type": "code",
   "execution_count": 218,
   "metadata": {},
   "outputs": [],
   "source": [
    "model2 = Sequential()\n",
    "model2.add(conv_base)\n",
    "model2.add(Flatten())\n",
    "model2.add(Dense(256, activation=\"relu\"))\n",
    "model2.add(Dropout(0.25))\n",
    "model2.add(Dense(10, activation=\"softmax\"))"
   ]
  },
  {
   "cell_type": "markdown",
   "metadata": {},
   "source": [
    "Here, we have the VGG16 as the pre-trained network, followed by a layer of flattening into vector, then a dense layer of ReLu activation with 256 hidden nodes. After that, we perform a dropout at rate 0.25 and finally, the output layer of 10 nodes with softmax activation."
   ]
  },
  {
   "cell_type": "code",
   "execution_count": 219,
   "metadata": {},
   "outputs": [
    {
     "name": "stdout",
     "output_type": "stream",
     "text": [
      "_________________________________________________________________\n",
      "Layer (type)                 Output Shape              Param #   \n",
      "=================================================================\n",
      "vgg16 (Model)                (None, 1, 1, 512)         14714688  \n",
      "_________________________________________________________________\n",
      "flatten_16 (Flatten)         (None, 512)               0         \n",
      "_________________________________________________________________\n",
      "dense_31 (Dense)             (None, 256)               131328    \n",
      "_________________________________________________________________\n",
      "dropout_27 (Dropout)         (None, 256)               0         \n",
      "_________________________________________________________________\n",
      "dense_32 (Dense)             (None, 10)                2570      \n",
      "=================================================================\n",
      "Total params: 14,848,586\n",
      "Trainable params: 14,848,586\n",
      "Non-trainable params: 0\n",
      "_________________________________________________________________\n"
     ]
    }
   ],
   "source": [
    "model2.summary()"
   ]
  },
  {
   "cell_type": "code",
   "execution_count": 220,
   "metadata": {},
   "outputs": [
    {
     "data": {
      "text/plain": [
       "[<tf.Variable 'block1_conv1_2/kernel:0' shape=(3, 3, 3, 64) dtype=float32_ref>,\n",
       " <tf.Variable 'block1_conv1_2/bias:0' shape=(64,) dtype=float32_ref>,\n",
       " <tf.Variable 'block1_conv2_2/kernel:0' shape=(3, 3, 64, 64) dtype=float32_ref>,\n",
       " <tf.Variable 'block1_conv2_2/bias:0' shape=(64,) dtype=float32_ref>,\n",
       " <tf.Variable 'block2_conv1_2/kernel:0' shape=(3, 3, 64, 128) dtype=float32_ref>,\n",
       " <tf.Variable 'block2_conv1_2/bias:0' shape=(128,) dtype=float32_ref>,\n",
       " <tf.Variable 'block2_conv2_2/kernel:0' shape=(3, 3, 128, 128) dtype=float32_ref>,\n",
       " <tf.Variable 'block2_conv2_2/bias:0' shape=(128,) dtype=float32_ref>,\n",
       " <tf.Variable 'block3_conv1_2/kernel:0' shape=(3, 3, 128, 256) dtype=float32_ref>,\n",
       " <tf.Variable 'block3_conv1_2/bias:0' shape=(256,) dtype=float32_ref>,\n",
       " <tf.Variable 'block3_conv2_2/kernel:0' shape=(3, 3, 256, 256) dtype=float32_ref>,\n",
       " <tf.Variable 'block3_conv2_2/bias:0' shape=(256,) dtype=float32_ref>,\n",
       " <tf.Variable 'block3_conv3_2/kernel:0' shape=(3, 3, 256, 256) dtype=float32_ref>,\n",
       " <tf.Variable 'block3_conv3_2/bias:0' shape=(256,) dtype=float32_ref>,\n",
       " <tf.Variable 'block4_conv1_2/kernel:0' shape=(3, 3, 256, 512) dtype=float32_ref>,\n",
       " <tf.Variable 'block4_conv1_2/bias:0' shape=(512,) dtype=float32_ref>,\n",
       " <tf.Variable 'block4_conv2_2/kernel:0' shape=(3, 3, 512, 512) dtype=float32_ref>,\n",
       " <tf.Variable 'block4_conv2_2/bias:0' shape=(512,) dtype=float32_ref>,\n",
       " <tf.Variable 'block4_conv3_2/kernel:0' shape=(3, 3, 512, 512) dtype=float32_ref>,\n",
       " <tf.Variable 'block4_conv3_2/bias:0' shape=(512,) dtype=float32_ref>,\n",
       " <tf.Variable 'block5_conv1_2/kernel:0' shape=(3, 3, 512, 512) dtype=float32_ref>,\n",
       " <tf.Variable 'block5_conv1_2/bias:0' shape=(512,) dtype=float32_ref>,\n",
       " <tf.Variable 'block5_conv2_2/kernel:0' shape=(3, 3, 512, 512) dtype=float32_ref>,\n",
       " <tf.Variable 'block5_conv2_2/bias:0' shape=(512,) dtype=float32_ref>,\n",
       " <tf.Variable 'block5_conv3_2/kernel:0' shape=(3, 3, 512, 512) dtype=float32_ref>,\n",
       " <tf.Variable 'block5_conv3_2/bias:0' shape=(512,) dtype=float32_ref>,\n",
       " <tf.Variable 'dense_31/kernel:0' shape=(512, 256) dtype=float32_ref>,\n",
       " <tf.Variable 'dense_31/bias:0' shape=(256,) dtype=float32_ref>,\n",
       " <tf.Variable 'dense_32/kernel:0' shape=(256, 10) dtype=float32_ref>,\n",
       " <tf.Variable 'dense_32/bias:0' shape=(10,) dtype=float32_ref>]"
      ]
     },
     "execution_count": 220,
     "metadata": {},
     "output_type": "execute_result"
    }
   ],
   "source": [
    "model2.trainable_weights"
   ]
  },
  {
   "cell_type": "code",
   "execution_count": 221,
   "metadata": {},
   "outputs": [],
   "source": [
    "conv_base.trainable = False"
   ]
  },
  {
   "cell_type": "code",
   "execution_count": 223,
   "metadata": {
    "scrolled": true
   },
   "outputs": [
    {
     "data": {
      "text/plain": [
       "[<tf.Variable 'dense_31/kernel:0' shape=(512, 256) dtype=float32_ref>,\n",
       " <tf.Variable 'dense_31/bias:0' shape=(256,) dtype=float32_ref>,\n",
       " <tf.Variable 'dense_32/kernel:0' shape=(256, 10) dtype=float32_ref>,\n",
       " <tf.Variable 'dense_32/bias:0' shape=(10,) dtype=float32_ref>]"
      ]
     },
     "execution_count": 223,
     "metadata": {},
     "output_type": "execute_result"
    }
   ],
   "source": [
    "model2.trainable_weights"
   ]
  },
  {
   "cell_type": "code",
   "execution_count": 224,
   "metadata": {},
   "outputs": [],
   "source": [
    "model2.compile(loss='categorical_crossentropy',\n",
    "              optimizer='adam',\n",
    "              metrics=['accuracy'])"
   ]
  },
  {
   "cell_type": "code",
   "execution_count": 225,
   "metadata": {
    "scrolled": true
   },
   "outputs": [
    {
     "name": "stdout",
     "output_type": "stream",
     "text": [
      "Train on 60000 samples, validate on 10000 samples\n",
      "Epoch 1/5\n",
      "60000/60000 [==============================] - 525s 9ms/step - loss: 2.0125 - acc: 0.2743 - val_loss: 1.8243 - val_acc: 0.3561\n",
      "Epoch 2/5\n",
      "60000/60000 [==============================] - 512s 9ms/step - loss: 1.7883 - acc: 0.3528 - val_loss: 1.7468 - val_acc: 0.3697\n",
      "Epoch 3/5\n",
      "60000/60000 [==============================] - 510s 9ms/step - loss: 1.7297 - acc: 0.3726 - val_loss: 1.6942 - val_acc: 0.3875\n",
      "Epoch 4/5\n",
      "60000/60000 [==============================] - 515s 9ms/step - loss: 1.6983 - acc: 0.3822 - val_loss: 1.6709 - val_acc: 0.3914\n",
      "Epoch 5/5\n",
      "60000/60000 [==============================] - 506s 8ms/step - loss: 1.6793 - acc: 0.3882 - val_loss: 1.6547 - val_acc: 0.3893\n"
     ]
    }
   ],
   "source": [
    "model_vgg = model2.fit(vggX_train, Y_train,\n",
    "          epochs=5,\n",
    "          batch_size=256,\n",
    "          validation_data=(vggX_test, Y_test))"
   ]
  },
  {
   "cell_type": "code",
   "execution_count": 267,
   "metadata": {
    "scrolled": false
   },
   "outputs": [
    {
     "data": {
      "image/png": "[encoded data removed]",
      "text/plain": [
       "<Figure size 432x288 with 1 Axes>"
      ]
     },
     "metadata": {
      "needs_background": "light"
     },
     "output_type": "display_data"
    }
   ],
   "source": [
    "plt.plot(model_vgg.history[\"acc\"], label=\"Training\")\n",
    "plt.plot(model_vgg.history[\"val_acc\"], label=\"Test\")\n",
    "plt.legend()\n",
    "plt.title(\"VGG16 Pre-trained Model Accuracy on Training and Test Datasets\")\n",
    "plt.show()"
   ]
  },
  {
   "cell_type": "markdown",
   "metadata": {},
   "source": [
    "Noticeably, the model accuracy follows the same pattern as that for the end-to-end Deep CNN network - the accuracy for the training set starts at a lower point and improves more than that of the test set. However, both accuracy scores are barely above 0.38, which is likely due to the fact that only 5 epochs were ran. If the number of epochs increased, the accuracy would surely increase as well."
   ]
  },
  {
   "cell_type": "markdown",
   "metadata": {},
   "source": [
    "## Exercise 3 Text Classification\n",
    "### Problem 3.1"
   ]
  },
  {
   "cell_type": "markdown",
   "metadata": {},
   "source": [
    "Build and train a Recurrent Neural Network to solve this text classification task. You can use any type of RNN you wish (SimpleRNN, GRU, LSTM)."
   ]
  },
  {
   "cell_type": "code",
   "execution_count": 306,
   "metadata": {},
   "outputs": [],
   "source": [
    "# Read in data\n",
    "malurl = []\n",
    "with open('malicious-urls.txt') as fmalurl:\n",
    "    for line in fmalurl:\n",
    "        malurl.append(line.strip())\n",
    "benurl = []\n",
    "with open('benign-urls.txt') as fbenurl:\n",
    "    for line in fbenurl:\n",
    "        if line.startswith('#') == False:\n",
    "            benurl.append(line.strip())"
   ]
  },
  {
   "cell_type": "code",
   "execution_count": 307,
   "metadata": {},
   "outputs": [],
   "source": [
    "# Combine\n",
    "totalurl = malurl+benurl"
   ]
  },
  {
   "cell_type": "code",
   "execution_count": 308,
   "metadata": {},
   "outputs": [],
   "source": [
    "# Label URLs\n",
    "labels = [0]*len(benurl)+[1]*len(malurl)"
   ]
  },
  {
   "cell_type": "code",
   "execution_count": 309,
   "metadata": {},
   "outputs": [
    {
     "name": "stdout",
     "output_type": "stream",
     "text": [
      "total chars: 67\n"
     ]
    }
   ],
   "source": [
    "chars = sorted(list(set(''.join(totalurl))))\n",
    "print('total chars:', len(chars))"
   ]
  },
  {
   "cell_type": "code",
   "execution_count": 310,
   "metadata": {},
   "outputs": [],
   "source": [
    "# Create mapping between characters and their numeric index\n",
    "char_indices = dict((c, i) for i, c in enumerate(chars))\n",
    "indices_char = dict((i, c) for i, c in enumerate(chars))"
   ]
  },
  {
   "cell_type": "code",
   "execution_count": 311,
   "metadata": {},
   "outputs": [],
   "source": [
    "# Max len\n",
    "maxlen = max(len(i) for i in totalurl)\n",
    "\n",
    "# Create one-hot vectors\n",
    "X = np.zeros((len(totalurl), maxlen, len(chars)), dtype=np.uint8)\n",
    "for i, seq in enumerate(totalurl):\n",
    "    for t, char in enumerate(seq):\n",
    "        X[i, t, char_indices[char]] = 1"
   ]
  },
  {
   "cell_type": "code",
   "execution_count": 312,
   "metadata": {},
   "outputs": [],
   "source": [
    "# Split into train and test set\n",
    "X_train, X_test, Y_train, Y_test = train_test_split(X, labels, test_size=0.3, random_state=100)"
   ]
  },
  {
   "cell_type": "code",
   "execution_count": 313,
   "metadata": {
    "scrolled": true
   },
   "outputs": [
    {
     "name": "stdout",
     "output_type": "stream",
     "text": [
      "_________________________________________________________________\n",
      "Layer (type)                 Output Shape              Param #   \n",
      "=================================================================\n",
      "lstm_8 (LSTM)                (None, 86, 50)            23600     \n",
      "_________________________________________________________________\n",
      "lstm_9 (LSTM)                (None, 50)                20200     \n",
      "_________________________________________________________________\n",
      "dropout_34 (Dropout)         (None, 50)                0         \n",
      "_________________________________________________________________\n",
      "dense_45 (Dense)             (None, 50)                2550      \n",
      "_________________________________________________________________\n",
      "dense_46 (Dense)             (None, 1)                 51        \n",
      "=================================================================\n",
      "Total params: 46,401\n",
      "Trainable params: 46,401\n",
      "Non-trainable params: 0\n",
      "_________________________________________________________________\n"
     ]
    }
   ],
   "source": [
    "# LSTM RNN\n",
    "char_rnn = Sequential()\n",
    "char_rnn.add(LSTM(50, input_shape=(maxlen, len(chars)), return_sequences=True))\n",
    "char_rnn.add(LSTM(50))\n",
    "char_rnn.add(Dropout(0.25))\n",
    "char_rnn.add(Dense(50, activation=\"relu\"))\n",
    "char_rnn.add(Dense(1, activation=\"sigmoid\"))\n",
    "char_rnn.summary()"
   ]
  },
  {
   "cell_type": "code",
   "execution_count": 314,
   "metadata": {},
   "outputs": [],
   "source": [
    "# Compile\n",
    "char_rnn.compile(loss='binary_crossentropy',\n",
    "                 optimizer=RMSprop(),\n",
    "                 metrics=['accuracy'])"
   ]
  },
  {
   "cell_type": "code",
   "execution_count": 315,
   "metadata": {},
   "outputs": [
    {
     "name": "stdout",
     "output_type": "stream",
     "text": [
      "Train on 47117 samples, validate on 20194 samples\n",
      "Epoch 1/5\n",
      "47117/47117 [==============================] - 24s 509us/step - loss: 0.1303 - acc: 0.9772 - val_loss: 0.1936 - val_acc: 0.9810\n",
      "Epoch 2/5\n",
      "47117/47117 [==============================] - 22s 465us/step - loss: 0.0610 - acc: 0.9844 - val_loss: 0.0438 - val_acc: 0.9920\n",
      "Epoch 3/5\n",
      "47117/47117 [==============================] - 22s 467us/step - loss: 0.0444 - acc: 0.9903 - val_loss: 0.0624 - val_acc: 0.9820\n",
      "Epoch 4/5\n",
      "47117/47117 [==============================] - 22s 468us/step - loss: 0.0397 - acc: 0.9921 - val_loss: 0.0414 - val_acc: 0.9921\n",
      "Epoch 5/5\n",
      "47117/47117 [==============================] - 22s 469us/step - loss: 0.0370 - acc: 0.9924 - val_loss: 0.0337 - val_acc: 0.9937\n"
     ]
    },
    {
     "data": {
      "text/plain": [
       "<keras.callbacks.History at 0xb52323470>"
      ]
     },
     "execution_count": 315,
     "metadata": {},
     "output_type": "execute_result"
    }
   ],
   "source": [
    "# Fit\n",
    "char_rnn.fit(X_train,Y_train,\n",
    "             epochs=5,\n",
    "             batch_size=512,\n",
    "             validation_data=(X_test,Y_test))"
   ]
  },
  {
   "cell_type": "markdown",
   "metadata": {},
   "source": [
    "### Problem 3.2"
   ]
  },
  {
   "cell_type": "markdown",
   "metadata": {},
   "source": [
    "Build and train a 1D CNN for this text classification task."
   ]
  },
  {
   "cell_type": "code",
   "execution_count": 320,
   "metadata": {
    "scrolled": false
   },
   "outputs": [
    {
     "name": "stdout",
     "output_type": "stream",
     "text": [
      "_________________________________________________________________\n",
      "Layer (type)                 Output Shape              Param #   \n",
      "=================================================================\n",
      "conv1d_3 (Conv1D)            (None, 77, 32)            21472     \n",
      "_________________________________________________________________\n",
      "conv1d_4 (Conv1D)            (None, 68, 64)            20544     \n",
      "_________________________________________________________________\n",
      "max_pooling1d_2 (MaxPooling1 (None, 17, 64)            0         \n",
      "_________________________________________________________________\n",
      "dropout_37 (Dropout)         (None, 17, 64)            0         \n",
      "_________________________________________________________________\n",
      "flatten_18 (Flatten)         (None, 1088)              0         \n",
      "_________________________________________________________________\n",
      "dense_49 (Dense)             (None, 100)               108900    \n",
      "_________________________________________________________________\n",
      "dropout_38 (Dropout)         (None, 100)               0         \n",
      "_________________________________________________________________\n",
      "dense_50 (Dense)             (None, 1)                 101       \n",
      "=================================================================\n",
      "Total params: 151,017\n",
      "Trainable params: 151,017\n",
      "Non-trainable params: 0\n",
      "_________________________________________________________________\n",
      "None\n"
     ]
    }
   ],
   "source": [
    "# 1D CNN input layer\n",
    "char_cnn = Sequential()\n",
    "char_cnn.add(Conv1D(filters = 32,kernel_size=10, \n",
    "                 activation='relu', strides=1, \n",
    "                 padding='valid',\n",
    "                 input_shape=(maxlen, len(chars))))\n",
    "\n",
    "char_cnn.add(Conv1D(filters = 64,kernel_size=10, \n",
    "                 activation='relu', strides=1, \n",
    "                 padding='valid', input_shape=(maxlen, len(chars))))\n",
    "char_cnn.add(MaxPooling1D(pool_size=4))\n",
    "char_cnn.add(Dropout(0.25))\n",
    "\n",
    "char_cnn.add(Flatten())\n",
    "char_cnn.add(Dense(100, activation='relu'))\n",
    "char_cnn.add(Dropout(0.5))\n",
    "char_cnn.add(Dense(1, activation='sigmoid'))\n",
    "print(char_cnn.summary())"
   ]
  },
  {
   "cell_type": "code",
   "execution_count": 321,
   "metadata": {},
   "outputs": [],
   "source": [
    "char_cnn.compile(loss='binary_crossentropy',\n",
    "              optimizer=RMSprop(),\n",
    "              metrics=['accuracy'])"
   ]
  },
  {
   "cell_type": "code",
   "execution_count": 322,
   "metadata": {
    "scrolled": false
   },
   "outputs": [
    {
     "name": "stdout",
     "output_type": "stream",
     "text": [
      "Train on 47117 samples, validate on 20194 samples\n",
      "Epoch 1/5\n",
      "47117/47117 [==============================] - 17s 357us/step - loss: 0.0557 - acc: 0.9844 - val_loss: 0.0295 - val_acc: 0.9936\n",
      "Epoch 2/5\n",
      "47117/47117 [==============================] - 15s 329us/step - loss: 0.0224 - acc: 0.9941 - val_loss: 0.0220 - val_acc: 0.9946\n",
      "Epoch 3/5\n",
      "47117/47117 [==============================] - 16s 331us/step - loss: 0.0173 - acc: 0.9947 - val_loss: 0.0197 - val_acc: 0.9948\n",
      "Epoch 4/5\n",
      "47117/47117 [==============================] - 17s 363us/step - loss: 0.0148 - acc: 0.9952 - val_loss: 0.0186 - val_acc: 0.9937\n",
      "Epoch 5/5\n",
      "47117/47117 [==============================] - 16s 338us/step - loss: 0.0132 - acc: 0.9955 - val_loss: 0.0232 - val_acc: 0.9948\n"
     ]
    },
    {
     "data": {
      "text/plain": [
       "<keras.callbacks.History at 0xb60f3bf60>"
      ]
     },
     "execution_count": 322,
     "metadata": {},
     "output_type": "execute_result"
    }
   ],
   "source": [
    "char_cnn.fit(X_train, Y_train,\n",
    "          epochs=5,\n",
    "          batch_size=256,\n",
    "          validation_data=(X_test, Y_test))"
   ]
  },
  {
   "cell_type": "markdown",
   "metadata": {},
   "source": [
    "### Problem 3.3"
   ]
  },
  {
   "cell_type": "markdown",
   "metadata": {},
   "source": [
    "Be sure to directly compare your two methods with an ROC curve or similar validation method. Don't forget to create a train-test split."
   ]
  },
  {
   "cell_type": "code",
   "execution_count": 332,
   "metadata": {},
   "outputs": [],
   "source": [
    "# ROC Curve\n",
    "# RNN\n",
    "predict_train_rnn = char_rnn.predict(X_train)\n",
    "fpr_rnn_train, tpr_rnn_train, _ = roc_curve(Y_train, predict_train_rnn)\n",
    "predict_test_rnn = char_rnn.predict(X_test)\n",
    "fpr_rnn_test, tpr_rnn_test, _ = roc_curve(Y_test, predict_test_rnn)\n",
    "\n",
    "# CNN\n",
    "predict_train_cnn = char_cnn.predict(X_train)\n",
    "fpr_cnn_train, tpr_cnn_train, _ = roc_curve(Y_train, predict_train_cnn)\n",
    "predict_test_cnn = char_cnn.predict(X_test)\n",
    "fpr_cnn_test, tpr_cnn_test, _ = roc_curve(Y_test, predict_test_cnn)"
   ]
  },
  {
   "cell_type": "code",
   "execution_count": 333,
   "metadata": {},
   "outputs": [],
   "source": [
    "rnn_auc_train = metrics.auc(fpr_rnn_train, tpr_rnn_train)\n",
    "rnn_auc_test = metrics.auc(fpr_rnn_test, tpr_rnn_test)\n",
    "cnn_auc_train = metrics.auc(fpr_cnn_train, tpr_cnn_train)\n",
    "cnn_auc_test = metrics.auc(fpr_cnn_test, tpr_cnn_test)"
   ]
  },
  {
   "cell_type": "code",
   "execution_count": 335,
   "metadata": {},
   "outputs": [
    {
     "data": {
      "text/plain": [
       "<matplotlib.legend.Legend at 0xb64e60ac8>"
      ]
     },
     "execution_count": 335,
     "metadata": {},
     "output_type": "execute_result"
    },
    {
     "data": {
      "image/png": "[encoded data removed]",
      "text/plain": [
       "<Figure size 432x288 with 1 Axes>"
      ]
     },
     "metadata": {
      "needs_background": "light"
     },
     "output_type": "display_data"
    }
   ],
   "source": [
    "plt.plot(fpr_rnn_train, tpr_rnn_train, label=\"Training RNN, area = %0.3f\" % rnn_auc_train)\n",
    "plt.plot(fpr_rnn_test, tpr_rnn_test, label=\"Test RNN, area = %0.3f\" % rnn_auc_test)\n",
    "plt.plot(fpr_cnn_train, tpr_cnn_train, label=\"Training CNN, area = %0.3f\" % cnn_auc_train)\n",
    "plt.plot(fpr_cnn_test, tpr_cnn_test, label=\"Test CNN, area = %0.3f\" % cnn_auc_test)\n",
    "plt.legend()"
   ]
  },
  {
   "cell_type": "markdown",
   "metadata": {},
   "source": [
    "From the ROC curve, it appears that the 1D CNN model performed relatively better for both the training and test set than the RNN model. Perhaps a more balanced data set of malicious and benign URLs would help."
   ]
  }
 ],
 "metadata": {
  "kernelspec": {
   "display_name": "Python 3",
   "language": "python",
   "name": "python3"
  },
  "language_info": {
   "codemirror_mode": {
    "name": "ipython",
    "version": 3
   },
   "file_extension": ".py",
   "mimetype": "text/x-python",
   "name": "python",
   "nbconvert_exporter": "python",
   "pygments_lexer": "ipython3",
   "version": "3.6.5"
  }
 },
 "nbformat": 4,
 "nbformat_minor": 2
}
